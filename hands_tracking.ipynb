{
  "nbformat": 4,
  "nbformat_minor": 0,
  "metadata": {
    "colab": {
      "name": "210 PROJECT",
      "provenance": [],
      "collapsed_sections": [],
      "include_colab_link": true
    },
    "kernelspec": {
      "name": "python3",
      "display_name": "Python 3"
    },
    "language_info": {
      "name": "python"
    }
  },
  "cells": [
    {
      "cell_type": "markdown",
      "metadata": {
        "id": "view-in-github",
        "colab_type": "text"
      },
      "source": [
        "<a href=\"https://colab.research.google.com/github/Darth-Jake/unsafe_driving_detection/blob/main/hands_tracking.ipynb\" target=\"_parent\"><img src=\"https://colab.research.google.com/assets/colab-badge.svg\" alt=\"Open In Colab\"/></a>"
      ]
    },
    {
      "cell_type": "code",
      "metadata": {
        "id": "6_qPp_fi2_wl"
      },
      "source": [
        "import cv2\n",
        "import mediapipe as mp\n",
        "import time\n",
        "\n",
        "cap = cv2.VideoCapture(0)\n",
        "\n",
        "mpHands = mp.solutions.hands\n",
        "hands = mpHands.Hands(static_image_mode=False,\n",
        "                      max_num_hands=2,\n",
        "                      min_detection_confidence=0.5,\n",
        "                      min_tracking_confidence=0.5)\n",
        "mpDraw = mp.solutions.drawing_utils\n",
        "\n",
        "pTime = 0\n",
        "cTime = 0\n",
        "\n",
        "while True:\n",
        "    success, img = cap.read()\n",
        "    imgRGB = cv2.cvtColor(img, cv2.COLOR_BGR2RGB)\n",
        "    results = hands.process(imgRGB)\n",
        "    print(results.multi_hand_landmarks)\n",
        "    if results.multi_hand_landmarks:\n",
        "        for handLms in results.multi_hand_landmarks:\n",
        "            for id, lm in enumerate(handLms.landmark):\n",
        "                print(id,lm)\n",
        "                h, w, c = img.shape\n",
        "                cx, cy = int(lm.x *w), int(lm.y*h)\n",
        "                #if id ==0:\n",
        "                cv2.circle(img, (cx,cy), 3, (255,0,255), cv2.FILLED)\n",
        "\n",
        "            mpDraw.draw_landmarks(img, handLms, mpHands.HAND_CONNECTIONS)\n",
        "\n",
        "    cTime = time.time()\n",
        "    fps = 1/(cTime-pTime)\n",
        "    pTime = cTime\n",
        "\n",
        "    cv2.putText(img,str(int(fps)), (10,70), cv2.FONT_HERSHEY_PLAIN, 3, (255,0,255), 3)\n",
        "    cv2.imshow(\"Image\", img)\n",
        "    cv2.waitKey(1)\n",
        "\n"
      ],
      "execution_count": null,
      "outputs": []
    },
    {
      "cell_type": "code",
      "metadata": {
        "id": "6wzHSSIr3BVH"
      },
      "source": [
        ""
      ],
      "execution_count": null,
      "outputs": []
    }
  ]
}